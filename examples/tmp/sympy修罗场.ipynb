{
 "cells": [
  {
   "cell_type": "code",
   "execution_count": 1,
   "id": "8c2b39cf",
   "metadata": {},
   "outputs": [],
   "source": [
    "import sys\n",
    "sys.path.append('/Users/sunqiang/repos/sympy/')"
   ]
  },
  {
   "cell_type": "code",
   "execution_count": 3,
   "id": "7d2f57a3",
   "metadata": {},
   "outputs": [
    {
     "name": "stderr",
     "output_type": "stream",
     "text": [
      "/Users/sunqiang/repos/sympy/sympy/external/importtools.py:158: DeprecationWarning: distutils Version classes are deprecated. Use packaging.version instead.\n",
      "  if LooseVersion(modversion) < LooseVersion(min_module_version):\n"
     ]
    }
   ],
   "source": [
    "import math\n",
    "from sympy.parsing.latex import parse_latex\n",
    "from sympy import *\n",
    "from sympy.plotting import plot\n",
    "from sympy.simplify.trigsimp import _is_Expr,_eapply,_futrig\n",
    "from sympy.simplify.fu import (\n",
    "    TR1, TR2, TR3, TR2i, TR10, L, TR10i,\n",
    "    TR8, TR6, TR15, TR16, TR111, TR5, TRmorrie, TR11, _TR11, TR14, TR22,\n",
    "    TR12,as_f_sign_1)\n",
    "from sympy.core.compatibility import _nodes\n",
    "from sympy.functions.elementary.trigonometric import TrigonometricFunction\n",
    "from sympy.core.function import count_ops, _mexpand\n",
    "from sympy import Integral, Sum, Symbol"
   ]
  },
  {
   "cell_type": "code",
   "execution_count": 2,
   "id": "321dd800",
   "metadata": {},
   "outputs": [
    {
     "name": "stderr",
     "output_type": "stream",
     "text": [
      "/Users/sunqiang/repos/sympy/sympy/external/importtools.py:158: DeprecationWarning: distutils Version classes are deprecated. Use packaging.version instead.\n",
      "  if LooseVersion(modversion) < LooseVersion(min_module_version):\n"
     ]
    }
   ],
   "source": [
    "from sympy import *"
   ]
  },
  {
   "cell_type": "code",
   "execution_count": 4,
   "id": "b29d5756",
   "metadata": {},
   "outputs": [],
   "source": [
    "x = symbols(\"x\")"
   ]
  },
  {
   "cell_type": "code",
   "execution_count": 29,
   "id": "541f651a",
   "metadata": {},
   "outputs": [],
   "source": [
    "Lops = lambda x: (L(x), x.count_ops(), _nodes(x), len(x.args), x.is_Add)\n",
    "def latex_count_ops(a):\n",
    "    ex = parse_latex(a)\n",
    "    return ex.count_ops(visual=True),ex.count_ops()\n",
    "def latex_nodes(a):\n",
    "    ex = parse_latex(a)\n",
    "    return _nodes(ex)\n",
    "def latex_Lops(a):\n",
    "    ex = parse_latex(a)\n",
    "    return Lops(ex)"
   ]
  },
  {
   "cell_type": "code",
   "execution_count": 5,
   "id": "a483673a",
   "metadata": {},
   "outputs": [],
   "source": [
    "o1,o2 = latex_count_ops(r\"-\\sin^{2}\\left(x\\right)\")"
   ]
  },
  {
   "cell_type": "code",
   "execution_count": 31,
   "id": "aae56482",
   "metadata": {},
   "outputs": [
    {
     "data": {
      "text/plain": [
       "(2*MUL, 2)"
      ]
     },
     "execution_count": 31,
     "metadata": {},
     "output_type": "execute_result"
    }
   ],
   "source": [
    "latex_count_ops(r\"2xy\")"
   ]
  },
  {
   "cell_type": "code",
   "execution_count": 35,
   "id": "bbbe542d",
   "metadata": {},
   "outputs": [
    {
     "data": {
      "text/plain": [
       "(DIV, 1)"
      ]
     },
     "execution_count": 35,
     "metadata": {},
     "output_type": "execute_result"
    }
   ],
   "source": [
    "latex_count_ops(r\"\\frac{1}{2}\")"
   ]
  },
  {
   "cell_type": "code",
   "execution_count": 37,
   "id": "e6b69af7",
   "metadata": {},
   "outputs": [
    {
     "data": {
      "text/plain": [
       "(DIV + MUL, 2)"
      ]
     },
     "execution_count": 37,
     "metadata": {},
     "output_type": "execute_result"
    }
   ],
   "source": [
    "latex_count_ops(r\"\\frac{3}{2\\pi}\")"
   ]
  },
  {
   "cell_type": "code",
   "execution_count": 32,
   "id": "7e91dfc6",
   "metadata": {},
   "outputs": [
    {
     "data": {
      "text/plain": [
       "(0, 0)"
      ]
     },
     "execution_count": 32,
     "metadata": {},
     "output_type": "execute_result"
    }
   ],
   "source": [
    "latex_count_ops(r\"x\")"
   ]
  },
  {
   "cell_type": "code",
   "execution_count": 33,
   "id": "9d073ac6",
   "metadata": {},
   "outputs": [
    {
     "data": {
      "text/plain": [
       "(0, 0)"
      ]
     },
     "execution_count": 33,
     "metadata": {},
     "output_type": "execute_result"
    }
   ],
   "source": [
    "latex_count_ops(r\"23\")"
   ]
  },
  {
   "cell_type": "code",
   "execution_count": 34,
   "id": "68c5085f",
   "metadata": {},
   "outputs": [
    {
     "data": {
      "text/plain": [
       "(0, 0)"
      ]
     },
     "execution_count": 34,
     "metadata": {},
     "output_type": "execute_result"
    }
   ],
   "source": [
    "latex_count_ops(r\"\\pi\")"
   ]
  },
  {
   "cell_type": "code",
   "execution_count": 43,
   "id": "09fbe3ba",
   "metadata": {},
   "outputs": [
    {
     "data": {
      "text/plain": [
       "(DIV + 2*MUL + POW, 4)"
      ]
     },
     "execution_count": 43,
     "metadata": {},
     "output_type": "execute_result"
    }
   ],
   "source": [
    "latex_count_ops(r\"y^{\\frac{1}{3}}xz\")"
   ]
  },
  {
   "cell_type": "code",
   "execution_count": 47,
   "id": "d17853fd",
   "metadata": {},
   "outputs": [
    {
     "data": {
      "text/plain": [
       "(DIV + 2*MUL + POW, 4)"
      ]
     },
     "execution_count": 47,
     "metadata": {},
     "output_type": "execute_result"
    }
   ],
   "source": [
    "latex_count_ops(r\"\\sqrt{2}xy\")"
   ]
  },
  {
   "cell_type": "code",
   "execution_count": 48,
   "id": "145929d7",
   "metadata": {},
   "outputs": [
    {
     "data": {
      "text/plain": [
       "(DIV + POW, 2)"
      ]
     },
     "execution_count": 48,
     "metadata": {},
     "output_type": "execute_result"
    }
   ],
   "source": [
    "latex_count_ops(r\"\\sqrt{2}\")"
   ]
  },
  {
   "cell_type": "code",
   "execution_count": 44,
   "id": "028a7bc9",
   "metadata": {},
   "outputs": [
    {
     "data": {
      "text/plain": [
       "(DIV + MUL + POW, 3)"
      ]
     },
     "execution_count": 44,
     "metadata": {},
     "output_type": "execute_result"
    }
   ],
   "source": [
    "latex_count_ops(r\"\\frac{1}{2}xy^{2}\")"
   ]
  },
  {
   "cell_type": "code",
   "execution_count": 50,
   "id": "75e3e46a",
   "metadata": {},
   "outputs": [
    {
     "data": {
      "text/plain": [
       "(DIV + MUL + POW, 3)"
      ]
     },
     "execution_count": 50,
     "metadata": {},
     "output_type": "execute_result"
    }
   ],
   "source": [
    "latex_count_ops(r\"2\\sqrt{2}\")"
   ]
  },
  {
   "cell_type": "code",
   "execution_count": 49,
   "id": "92cd4cdd",
   "metadata": {},
   "outputs": [
    {
     "data": {
      "text/plain": [
       "(DIV + MUL + POW, 3)"
      ]
     },
     "execution_count": 49,
     "metadata": {},
     "output_type": "execute_result"
    }
   ],
   "source": [
    "latex_count_ops(r\"\\frac{xy^2}{2}\")"
   ]
  },
  {
   "cell_type": "code",
   "execution_count": 8,
   "id": "01d08236",
   "metadata": {},
   "outputs": [
    {
     "data": {
      "text/plain": [
       "11"
      ]
     },
     "execution_count": 8,
     "metadata": {},
     "output_type": "execute_result"
    }
   ],
   "source": [
    "f =  parse_latex(r\"\")\n",
    "_nodes(f)"
   ]
  },
  {
   "cell_type": "code",
   "execution_count": 38,
   "id": "0b9ae6c7",
   "metadata": {},
   "outputs": [
    {
     "data": {
      "text/plain": [
       "5"
      ]
     },
     "execution_count": 38,
     "metadata": {},
     "output_type": "execute_result"
    }
   ],
   "source": [
    "latex_nodes(\"2xy\")"
   ]
  },
  {
   "cell_type": "code",
   "execution_count": 21,
   "id": "19b100ea",
   "metadata": {},
   "outputs": [
    {
     "data": {
      "text/plain": [
       "11"
      ]
     },
     "execution_count": 21,
     "metadata": {},
     "output_type": "execute_result"
    }
   ],
   "source": [
    "latex_nodes(r\"-\\sin^{2}\\left(x\\right)+\\cos\\left(2x\\right)\")"
   ]
  },
  {
   "cell_type": "code",
   "execution_count": 22,
   "id": "f0745bea",
   "metadata": {},
   "outputs": [
    {
     "data": {
      "text/plain": [
       "6"
      ]
     },
     "execution_count": 22,
     "metadata": {},
     "output_type": "execute_result"
    }
   ],
   "source": [
    "latex_nodes(r\"-\\sin^{2}\\left(x\\right)\")"
   ]
  },
  {
   "cell_type": "code",
   "execution_count": 23,
   "id": "ed19797e",
   "metadata": {},
   "outputs": [
    {
     "data": {
      "text/plain": [
       "4"
      ]
     },
     "execution_count": 23,
     "metadata": {},
     "output_type": "execute_result"
    }
   ],
   "source": [
    "latex_nodes(r\"\\cos\\left(2x\\right)\")"
   ]
  },
  {
   "cell_type": "code",
   "execution_count": 30,
   "id": "70ac00e7",
   "metadata": {},
   "outputs": [
    {
     "data": {
      "text/plain": [
       "(2, 6, 11, 2, True)"
      ]
     },
     "execution_count": 30,
     "metadata": {},
     "output_type": "execute_result"
    }
   ],
   "source": [
    "latex_Lops(r\"\\cos^{2}\\left(x\\right)-1+\\cos\\left(2x\\right)\")"
   ]
  },
  {
   "cell_type": "code",
   "execution_count": 44,
   "id": "751620a4",
   "metadata": {},
   "outputs": [
    {
     "name": "stdout",
     "output_type": "stream",
     "text": [
      "<class 'sympy.parsing.latex._antlr.latexlexer.LaTeXLexer'>\n"
     ]
    }
   ],
   "source": [
    "f1 = parse_latex(r\"1 - 3 \\sin^{2}{\\left(x \\right)}\")"
   ]
  },
  {
   "cell_type": "code",
   "execution_count": 58,
   "id": "d2960362",
   "metadata": {},
   "outputs": [
    {
     "name": "stdout",
     "output_type": "stream",
     "text": [
      "<class 'sympy.parsing.latex._antlr.latexlexer.LaTeXLexer'>\n"
     ]
    },
    {
     "data": {
      "text/plain": [
       "3"
      ]
     },
     "execution_count": 58,
     "metadata": {},
     "output_type": "execute_result"
    }
   ],
   "source": [
    "parse_latex(r\"-\\sin^{2}\\left(x\\right)\").count_ops()"
   ]
  },
  {
   "cell_type": "code",
   "execution_count": 78,
   "id": "062175cb",
   "metadata": {},
   "outputs": [
    {
     "name": "stdout",
     "output_type": "stream",
     "text": [
      "<class 'sympy.parsing.latex._antlr.latexlexer.LaTeXLexer'>\n"
     ]
    },
    {
     "data": {
      "text/latex": [
       "$\\displaystyle MUL$"
      ],
      "text/plain": [
       "MUL"
      ]
     },
     "execution_count": 78,
     "metadata": {},
     "output_type": "execute_result"
    }
   ],
   "source": [
    "parse_latex(r\"xy\").count_ops(visual=True)"
   ]
  },
  {
   "cell_type": "code",
   "execution_count": 66,
   "id": "bcbc5c8e",
   "metadata": {},
   "outputs": [
    {
     "name": "stdout",
     "output_type": "stream",
     "text": [
      "<class 'sympy.parsing.latex._antlr.latexlexer.LaTeXLexer'>\n",
      "<class 'sympy.parsing.latex._antlr.latexlexer.LaTeXLexer'>\n"
     ]
    },
    {
     "data": {
      "text/plain": [
       "(MUL, 1)"
      ]
     },
     "execution_count": 66,
     "metadata": {},
     "output_type": "execute_result"
    }
   ],
   "source": [
    "parse_latex(r\"2x\").count_ops(visual=True),parse_latex(r\"2x\").count_ops()"
   ]
  },
  {
   "cell_type": "code",
   "execution_count": 65,
   "id": "87b4d258",
   "metadata": {},
   "outputs": [
    {
     "name": "stdout",
     "output_type": "stream",
     "text": [
      "<class 'sympy.parsing.latex._antlr.latexlexer.LaTeXLexer'>\n",
      "<class 'sympy.parsing.latex._antlr.latexlexer.LaTeXLexer'>\n"
     ]
    },
    {
     "data": {
      "text/plain": [
       "(COS + MUL, 2)"
      ]
     },
     "execution_count": 65,
     "metadata": {},
     "output_type": "execute_result"
    }
   ],
   "source": [
    "parse_latex(r\"\\cos\\left(2x\\right)\").count_ops(visual=True),parse_latex(r\"\\cos\\left(2x\\right)\").count_ops()"
   ]
  },
  {
   "cell_type": "code",
   "execution_count": 82,
   "id": "d8387106",
   "metadata": {},
   "outputs": [
    {
     "name": "stdout",
     "output_type": "stream",
     "text": [
      "<class 'sympy.parsing.latex._antlr.latexlexer.LaTeXLexer'>\n"
     ]
    },
    {
     "data": {
      "text/latex": [
       "$\\displaystyle COS + MUL + POW + SIN + SUB$"
      ],
      "text/plain": [
       "COS + MUL + POW + SIN + SUB"
      ]
     },
     "execution_count": 82,
     "metadata": {},
     "output_type": "execute_result"
    }
   ],
   "source": [
    "parse_latex(r\"-\\sin^{2}\\left(x\\right)+\\cos\\left(2x\\right)\").count_ops(visual=True)"
   ]
  },
  {
   "cell_type": "code",
   "execution_count": null,
   "id": "d21ea7a5",
   "metadata": {},
   "outputs": [],
   "source": []
  },
  {
   "cell_type": "code",
   "execution_count": 12,
   "id": "3c4956ee",
   "metadata": {},
   "outputs": [
    {
     "data": {
      "text/plain": [
       "11"
      ]
     },
     "execution_count": 12,
     "metadata": {},
     "output_type": "execute_result"
    }
   ],
   "source": [
    "_nodes(f)"
   ]
  },
  {
   "cell_type": "code",
   "execution_count": 11,
   "id": "d5a04b72",
   "metadata": {},
   "outputs": [
    {
     "data": {
      "text/latex": [
       "$\\displaystyle 2$"
      ],
      "text/plain": [
       "2"
      ]
     },
     "execution_count": 11,
     "metadata": {},
     "output_type": "execute_result"
    }
   ],
   "source": [
    "L(f)"
   ]
  },
  {
   "cell_type": "code",
   "execution_count": 15,
   "id": "a19fc97b",
   "metadata": {},
   "outputs": [
    {
     "data": {
      "text/plain": [
       "5"
      ]
     },
     "execution_count": 15,
     "metadata": {},
     "output_type": "execute_result"
    }
   ],
   "source": [
    "f.count_ops()"
   ]
  },
  {
   "cell_type": "code",
   "execution_count": 19,
   "id": "79189857",
   "metadata": {},
   "outputs": [
    {
     "data": {
      "text/plain": [
       "False"
      ]
     },
     "execution_count": 19,
     "metadata": {},
     "output_type": "execute_result"
    }
   ],
   "source": [
    "f.is_Add"
   ]
  },
  {
   "cell_type": "code",
   "execution_count": 20,
   "id": "e4fb03d2",
   "metadata": {},
   "outputs": [
    {
     "data": {
      "text/plain": [
       "True"
      ]
     },
     "execution_count": 20,
     "metadata": {},
     "output_type": "execute_result"
    }
   ],
   "source": [
    "True > False"
   ]
  },
  {
   "cell_type": "code",
   "execution_count": 30,
   "id": "a177f0a5",
   "metadata": {},
   "outputs": [],
   "source": []
  },
  {
   "cell_type": "code",
   "execution_count": 48,
   "id": "9878f2b4",
   "metadata": {},
   "outputs": [
    {
     "data": {
      "text/plain": [
       "(2, 5, 11, 2, True)"
      ]
     },
     "execution_count": 48,
     "metadata": {},
     "output_type": "execute_result"
    }
   ],
   "source": [
    "Lops(f)"
   ]
  },
  {
   "cell_type": "code",
   "execution_count": 46,
   "id": "8012d946",
   "metadata": {},
   "outputs": [
    {
     "data": {
      "text/plain": [
       "(1, 4, 8, 2, True)"
      ]
     },
     "execution_count": 46,
     "metadata": {},
     "output_type": "execute_result"
    }
   ],
   "source": [
    "Lops(f1)"
   ]
  },
  {
   "cell_type": "code",
   "execution_count": 42,
   "id": "5b04d652",
   "metadata": {},
   "outputs": [
    {
     "data": {
      "text/plain": [
       "False"
      ]
     },
     "execution_count": 42,
     "metadata": {},
     "output_type": "execute_result"
    }
   ],
   "source": [
    "Lops(f) < Lops(f1)"
   ]
  },
  {
   "cell_type": "code",
   "execution_count": 40,
   "id": "9e06fd08",
   "metadata": {},
   "outputs": [
    {
     "name": "stdout",
     "output_type": "stream",
     "text": [
      "<class 'sympy.parsing.latex._antlr.latexlexer.LaTeXLexer'>\n",
      "-------- <function _TR56.<locals>._f at 0x7f8bf192f760> start----------\n",
      "beforeLatex \\sin^{2}{\\left(x \\right)}\n",
      "afterLatex 1 - \\cos^{2}{\\left(x \\right)}\n",
      "       2   \n",
      "1 - cos (x)\n",
      "-------- <function _TR56.<locals>._f at 0x7f8bf192f760> start----------\n",
      "beforeLatex - 2 \\sin^{2}{\\left(x \\right)}\n",
      "afterLatex 2 \\cos^{2}{\\left(x \\right)} - 2\n",
      "     2       \n",
      "2⋅cos (x) - 2\n",
      "-------- <function _TR56.<locals>._f at 0x7f8bf192f760> start----------\n",
      "beforeLatex - 2 \\sin^{2}{\\left(x \\right)} + \\cos^{2}{\\left(x \\right)}\n",
      "afterLatex 3 \\cos^{2}{\\left(x \\right)} - 2\n",
      "     2       \n",
      "3⋅cos (x) - 2\n",
      "-------- <function _TR56.<locals>._f at 0x7f8be18155a0> start----------\n",
      "beforeLatex \\cos^{2}{\\left(x \\right)}\n",
      "afterLatex 1 - \\sin^{2}{\\left(x \\right)}\n",
      "       2   \n",
      "1 - sin (x)\n",
      "-------- <function _TR56.<locals>._f at 0x7f8be18155a0> start----------\n",
      "beforeLatex 3 \\cos^{2}{\\left(x \\right)}\n",
      "afterLatex 3 - 3 \\sin^{2}{\\left(x \\right)}\n",
      "         2   \n",
      "3 - 3⋅sin (x)\n",
      "-------- <function _TR56.<locals>._f at 0x7f8be18155a0> start----------\n",
      "beforeLatex 3 \\cos^{2}{\\left(x \\right)} - 2\n",
      "afterLatex 1 - 3 \\sin^{2}{\\left(x \\right)}\n",
      "         2   \n",
      "1 - 3⋅sin (x)\n",
      "-------- <function TR8.<locals>.f at 0x7f8bf192d870> start----------\n",
      "beforeLatex \\sin^{2}{\\left(x \\right)}\n",
      "afterLatex \\frac{1}{2} - \\frac{\\cos{\\left(2 x \\right)}}{2}\n",
      "1   cos(2⋅x)\n",
      "─ - ────────\n",
      "2      2    \n",
      "-------- <function TR8.<locals>.f at 0x7f8bf192edd0> start----------\n",
      "beforeLatex \\sin^{2}{\\left(x \\right)}\n",
      "afterLatex \\frac{1}{2} - \\frac{\\cos{\\left(2 x \\right)}}{2}\n",
      "1   cos(2⋅x)\n",
      "─ - ────────\n",
      "2      2    \n",
      "-------- <function TR8.<locals>.f at 0x7f8bf192edd0> start----------\n",
      "beforeLatex - 3 \\sin^{2}{\\left(x \\right)}\n",
      "afterLatex \\frac{3 \\cos{\\left(2 x \\right)}}{2} - \\frac{3}{2}\n",
      "3⋅cos(2⋅x)   3\n",
      "────────── - ─\n",
      "    2        2\n",
      "-------- <function TR8.<locals>.f at 0x7f8bf192edd0> start----------\n",
      "beforeLatex 1 - 3 \\sin^{2}{\\left(x \\right)}\n",
      "afterLatex \\frac{3 \\cos{\\left(2 x \\right)}}{2} - \\frac{1}{2}\n",
      "3⋅cos(2⋅x)   1\n",
      "────────── - ─\n",
      "    2        2\n",
      "-------- <function _TR56.<locals>._f at 0x7f8bf192e8c0> start----------\n",
      "beforeLatex \\sin^{2}{\\left(x \\right)}\n",
      "afterLatex 1 - \\cos^{2}{\\left(x \\right)}\n",
      "       2   \n",
      "1 - cos (x)\n",
      "-------- <function _TR56.<locals>._f at 0x7f8bf192e8c0> start----------\n",
      "beforeLatex - 3 \\sin^{2}{\\left(x \\right)}\n",
      "afterLatex 3 \\cos^{2}{\\left(x \\right)} - 3\n",
      "     2       \n",
      "3⋅cos (x) - 3\n",
      "-------- <function _TR56.<locals>._f at 0x7f8bf192e8c0> start----------\n",
      "beforeLatex 1 - 3 \\sin^{2}{\\left(x \\right)}\n",
      "afterLatex 3 \\cos^{2}{\\left(x \\right)} - 2\n",
      "     2       \n",
      "3⋅cos (x) - 2\n",
      "-------- <function _TR56.<locals>._f at 0x7f8bf192e8c0> start----------\n",
      "beforeLatex \\cos^{2}{\\left(x \\right)}\n",
      "afterLatex 1 - \\sin^{2}{\\left(x \\right)}\n",
      "       2   \n",
      "1 - sin (x)\n",
      "-------- <function _TR56.<locals>._f at 0x7f8bf192e8c0> start----------\n",
      "beforeLatex 3 \\cos^{2}{\\left(x \\right)}\n",
      "afterLatex 3 - 3 \\sin^{2}{\\left(x \\right)}\n",
      "         2   \n",
      "3 - 3⋅sin (x)\n",
      "-------- <function _TR56.<locals>._f at 0x7f8bf192e8c0> start----------\n",
      "beforeLatex 3 \\cos^{2}{\\left(x \\right)} - 2\n",
      "afterLatex 1 - 3 \\sin^{2}{\\left(x \\right)}\n",
      "         2   \n",
      "1 - 3⋅sin (x)\n"
     ]
    },
    {
     "data": {
      "text/latex": [
       "$\\displaystyle 1 - 3 \\sin^{2}{\\left(x \\right)}$"
      ],
      "text/plain": [
       "1 - 3*sin(x)**2"
      ]
     },
     "execution_count": 40,
     "metadata": {},
     "output_type": "execute_result"
    }
   ],
   "source": [
    "_futrig(parse_latex(r\"(\\cos x)^2 - 2 * (\\sin x)^2\"))"
   ]
  },
  {
   "cell_type": "code",
   "execution_count": null,
   "id": "087b26d8",
   "metadata": {},
   "outputs": [],
   "source": []
  }
 ],
 "metadata": {
  "kernelspec": {
   "display_name": "Python 3 (ipykernel)",
   "language": "python",
   "name": "python3"
  },
  "language_info": {
   "codemirror_mode": {
    "name": "ipython",
    "version": 3
   },
   "file_extension": ".py",
   "mimetype": "text/x-python",
   "name": "python",
   "nbconvert_exporter": "python",
   "pygments_lexer": "ipython3",
   "version": "3.10.4"
  }
 },
 "nbformat": 4,
 "nbformat_minor": 5
}

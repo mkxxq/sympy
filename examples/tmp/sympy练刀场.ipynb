{
 "cells": [
  {
   "cell_type": "code",
   "execution_count": 1,
   "id": "d385d397",
   "metadata": {},
   "outputs": [],
   "source": [
    "import sys\n",
    "sys.path.append('/Users/sunqiang/repos/sympy/')"
   ]
  },
  {
   "cell_type": "code",
   "execution_count": 2,
   "id": "f868989f",
   "metadata": {
    "scrolled": true
   },
   "outputs": [
    {
     "name": "stderr",
     "output_type": "stream",
     "text": [
      "/Users/sunqiang/repos/sympy/sympy/external/importtools.py:158: DeprecationWarning: distutils Version classes are deprecated. Use packaging.version instead.\n",
      "  if LooseVersion(modversion) < LooseVersion(min_module_version):\n"
     ]
    }
   ],
   "source": [
    "from sympy import *"
   ]
  },
  {
   "cell_type": "code",
   "execution_count": 3,
   "id": "e3e1af8d",
   "metadata": {},
   "outputs": [],
   "source": [
    "from sympy.plotting import plot\n",
    "from sympy.simplify.trigsimp import _is_Expr,_eapply,_futrig\n",
    "from sympy.simplify.fu import (\n",
    "    TR1, TR2, TR3, TR2i, TR10, L, TR10i,\n",
    "    TR8, TR6, TR15, TR16, TR111, TR5, TRmorrie, TR11, _TR11, TR14, TR22,\n",
    "    TR12,as_f_sign_1,_TR56)\n",
    "from sympy.core.compatibility import _nodes\n",
    "from sympy.functions.elementary.trigonometric import TrigonometricFunction\n",
    "from sympy.core.function import count_ops, _mexpand\n",
    "from sympy import Integral, Sum, Symbol,perfect_power,sin,tan,cos,cot,sec,csc,Integer\n",
    "from sympy.abc import x,y,z"
   ]
  },
  {
   "cell_type": "code",
   "execution_count": 6,
   "id": "b5d7cd6d",
   "metadata": {},
   "outputs": [
    {
     "data": {
      "text/plain": [
       "True"
      ]
     },
     "execution_count": 6,
     "metadata": {},
     "output_type": "execute_result"
    }
   ],
   "source": [
    "1 + sin(x) == sin(x) +1"
   ]
  },
  {
   "cell_type": "code",
   "execution_count": null,
   "id": "4566f502",
   "metadata": {},
   "outputs": [],
   "source": [
    "a,b = symbols('a b')"
   ]
  },
  {
   "cell_type": "code",
   "execution_count": null,
   "id": "20960460",
   "metadata": {},
   "outputs": [],
   "source": [
    "TR10(sin(x-y))"
   ]
  },
  {
   "cell_type": "code",
   "execution_count": null,
   "id": "e0f4359a",
   "metadata": {},
   "outputs": [],
   "source": [
    "TR10(sin(x+y))"
   ]
  },
  {
   "cell_type": "code",
   "execution_count": null,
   "id": "bc923871",
   "metadata": {},
   "outputs": [],
   "source": [
    "TR10(cos(x-y))"
   ]
  },
  {
   "cell_type": "code",
   "execution_count": 5,
   "id": "7ff980a8",
   "metadata": {},
   "outputs": [
    {
     "ename": "NameError",
     "evalue": "name 'b' is not defined",
     "output_type": "error",
     "traceback": [
      "\u001b[0;31m---------------------------------------------------------------------------\u001b[0m",
      "\u001b[0;31mNameError\u001b[0m                                 Traceback (most recent call last)",
      "\u001b[1;32m/Users/sunqiang/repos/sympy/examples/tmp/sympy练刀场.ipynb Cell 8\u001b[0m in \u001b[0;36m<cell line: 1>\u001b[0;34m()\u001b[0m\n\u001b[0;32m----> <a href='vscode-notebook-cell:/Users/sunqiang/repos/sympy/examples/tmp/sympy%E7%BB%83%E5%88%80%E5%9C%BA.ipynb#X10sZmlsZQ%3D%3D?line=0'>1</a>\u001b[0m TR10(cos(b\u001b[39m-\u001b[39ma))\n",
      "\u001b[0;31mNameError\u001b[0m: name 'b' is not defined"
     ]
    }
   ],
   "source": [
    "TR10(cos(b-a))"
   ]
  },
  {
   "cell_type": "code",
   "execution_count": null,
   "id": "f8760263",
   "metadata": {},
   "outputs": [],
   "source": [
    "TR12(tan(x+y))"
   ]
  },
  {
   "cell_type": "code",
   "execution_count": null,
   "id": "ae620f1f",
   "metadata": {},
   "outputs": [],
   "source": [
    "TR12(tan(x-y))"
   ]
  },
  {
   "cell_type": "code",
   "execution_count": null,
   "id": "d2247845",
   "metadata": {},
   "outputs": [],
   "source": [
    "sin(-x),cos(-x),tan(-x),cot(-x),sec(-x),csc(-x)"
   ]
  },
  {
   "cell_type": "code",
   "execution_count": null,
   "id": "e3e032b9",
   "metadata": {},
   "outputs": [],
   "source": [
    "asin(-x),acos(-x),atan(-x),acot(-x),asec(-x),acsc(-x)"
   ]
  },
  {
   "cell_type": "code",
   "execution_count": 6,
   "id": "d8170ab7",
   "metadata": {},
   "outputs": [
    {
     "name": "stdout",
     "output_type": "stream",
     "text": [
      "-------- <function TR11.<locals>.f at 0x7f894017a0e0> start----------\n",
      "beforeLatex \\sin{\\left(\\frac{x}{3} \\right)}\n",
      "afterLatex 2 \\sin{\\left(\\frac{x}{6} \\right)} \\cos{\\left(\\frac{x}{6} \\right)}\n",
      "     ⎛x⎞    ⎛x⎞\n",
      "2⋅sin⎜─⎟⋅cos⎜─⎟\n",
      "     ⎝6⎠    ⎝6⎠\n",
      "-------- <function TR11.<locals>.f at 0x7f894017a0e0> start----------\n",
      "beforeLatex \\frac{\\sin{\\left(\\frac{x}{3} \\right)}}{\\cos{\\left(\\frac{x}{6} \\right)}}\n",
      "afterLatex 2 \\sin{\\left(\\frac{x}{6} \\right)}\n",
      "     ⎛x⎞\n",
      "2⋅sin⎜─⎟\n",
      "     ⎝6⎠\n",
      "-------- <function _TR11.<locals>.f at 0x7f89612d3880> start----------\n",
      "beforeLatex \\frac{\\sin{\\left(\\frac{x}{3} \\right)}}{\\cos{\\left(\\frac{x}{6} \\right)}}\n",
      "afterLatex 2 \\sin{\\left(\\frac{x}{6} \\right)}\n",
      "     ⎛x⎞\n",
      "2⋅sin⎜─⎟\n",
      "     ⎝6⎠\n"
     ]
    },
    {
     "data": {
      "text/latex": [
       "$\\displaystyle 2 \\sin{\\left(\\frac{x}{6} \\right)}$"
      ],
      "text/plain": [
       "2*sin(x/6)"
      ]
     },
     "execution_count": 6,
     "metadata": {},
     "output_type": "execute_result"
    }
   ],
   "source": [
    "_TR11(sin(x/3)/(cos(x/6)))"
   ]
  },
  {
   "cell_type": "code",
   "execution_count": null,
   "id": "81a344f8",
   "metadata": {},
   "outputs": [],
   "source": [
    "_TR56(tan(x)**6,tan,sec,lambda x: 1 - x,6,False)"
   ]
  },
  {
   "cell_type": "code",
   "execution_count": 5,
   "id": "bf02e5bd",
   "metadata": {},
   "outputs": [
    {
     "name": "stdout",
     "output_type": "stream",
     "text": [
      "-------- <function TR2i.<locals>.f at 0x7f86d1162c20> start----------\n",
      "beforeLatex \\frac{\\sin{\\left(x \\right)} \\sec{\\left(x \\right)}}{\\cos{\\left(x \\right)} + 1}\n",
      "afterLatex \\tan{\\left(\\frac{x}{2} \\right)} \\sec{\\left(x \\right)}\n",
      "   ⎛x⎞       \n",
      "tan⎜─⎟⋅sec(x)\n",
      "   ⎝2⎠       \n"
     ]
    },
    {
     "data": {
      "text/latex": [
       "$\\displaystyle \\tan{\\left(\\frac{x}{2} \\right)} \\sec{\\left(x \\right)}$"
      ],
      "text/plain": [
       "tan(x/2)*sec(x)"
      ]
     },
     "execution_count": 5,
     "metadata": {},
     "output_type": "execute_result"
    }
   ],
   "source": [
    "TR2i((sin(x)*sec(x))/(cos(x)+1),half=True)"
   ]
  },
  {
   "cell_type": "code",
   "execution_count": 10,
   "id": "a294b2b6",
   "metadata": {},
   "outputs": [],
   "source": [
    "def ok(k, e):\n",
    "    # initial filtering of factors\n",
    "    return (\n",
    "        (e.is_integer or k.is_positive) and (\n",
    "        k.func in (sin, cos) or (half and\n",
    "        k.is_Add and\n",
    "        len(k.args) >= 2 and\n",
    "        any(any(isinstance(ai, cos) or ai.is_Pow and ai.base is cos\n",
    "        for ai in Mul.make_args(a)) for a in k.args))))"
   ]
  },
  {
   "cell_type": "code",
   "execution_count": 20,
   "id": "3c57d60e",
   "metadata": {},
   "outputs": [
    {
     "data": {
      "text/plain": [
       "True"
      ]
     },
     "execution_count": 20,
     "metadata": {},
     "output_type": "execute_result"
    }
   ],
   "source": [
    "Integer(3).is_integer"
   ]
  },
  {
   "cell_type": "code",
   "execution_count": 33,
   "id": "bf7344ec",
   "metadata": {},
   "outputs": [
    {
     "data": {
      "text/plain": [
       "-1"
      ]
     },
     "execution_count": 33,
     "metadata": {},
     "output_type": "execute_result"
    }
   ],
   "source": [
    "-sin(1).is_positive"
   ]
  },
  {
   "cell_type": "code",
   "execution_count": 30,
   "id": "1891acbe",
   "metadata": {},
   "outputs": [
    {
     "data": {
      "text/plain": [
       "False"
      ]
     },
     "execution_count": 30,
     "metadata": {},
     "output_type": "execute_result"
    }
   ],
   "source": [
    "half = False\n",
    "ok(-sin(3),Integer(2))"
   ]
  },
  {
   "cell_type": "code",
   "execution_count": 23,
   "id": "85bfcc80",
   "metadata": {},
   "outputs": [
    {
     "name": "stdout",
     "output_type": "stream",
     "text": [
      "-------- <function TR2i.<locals>.f at 0x7f86b0ae43a0> start----------\n",
      "beforeLatex \\frac{\\cos^{2}{\\left(x \\right)}}{\\sin^{2}{\\left(x \\right)}}\n",
      "afterLatex \\frac{1}{\\tan^{2}{\\left(x \\right)}}\n",
      "   1   \n",
      "───────\n",
      "   2   \n",
      "tan (x)\n"
     ]
    },
    {
     "data": {
      "text/latex": [
       "$\\displaystyle \\frac{1}{\\tan^{2}{\\left(x \\right)}}$"
      ],
      "text/plain": [
       "tan(x)**(-2)"
      ]
     },
     "execution_count": 23,
     "metadata": {},
     "output_type": "execute_result"
    }
   ],
   "source": [
    "TR2i((cos(x)**2)/(sin(x) ** 2) )"
   ]
  },
  {
   "cell_type": "code",
   "execution_count": 26,
   "id": "286eaf57",
   "metadata": {},
   "outputs": [
    {
     "data": {
      "text/plain": [
       "True"
      ]
     },
     "execution_count": 26,
     "metadata": {},
     "output_type": "execute_result"
    }
   ],
   "source": [
    "any((False,False,True))"
   ]
  },
  {
   "cell_type": "code",
   "execution_count": null,
   "id": "f789417f",
   "metadata": {},
   "outputs": [],
   "source": [
    "count_ops(exp6,visual=True)"
   ]
  },
  {
   "cell_type": "code",
   "execution_count": null,
   "id": "861316d0",
   "metadata": {},
   "outputs": [],
   "source": [
    "Lops = lambda x: (L(x), x.count_ops(), _nodes(x), len(x.args), x.is_Add)"
   ]
  },
  {
   "cell_type": "code",
   "execution_count": null,
   "id": "9bb59d6a",
   "metadata": {},
   "outputs": [],
   "source": [
    "exp = parse_latex(r\"\\frac{\\left(x\\cos\\left(x\\right)+3\\cos\\left(x\\right)\\right)\\cos\\left(x\\right)-\\sin\\left(x\\right)\\times \\left(\\cos\\left(x\\right)-x\\sin\\left(x\\right)-3\\sin\\left(x\\right)\\right)}{\\left(x\\cos\\left(x\\right)+3\\cos\\left(x\\right)\\right)^{2}}\")\n",
    "res = trigsimp(exp)"
   ]
  },
  {
   "cell_type": "code",
   "execution_count": null,
   "id": "5dea7df9",
   "metadata": {},
   "outputs": [],
   "source": [
    "res"
   ]
  },
  {
   "cell_type": "code",
   "execution_count": null,
   "id": "b606a575",
   "metadata": {},
   "outputs": [],
   "source": [
    "exp = parse_latex(r\"-a+b\")"
   ]
  },
  {
   "cell_type": "code",
   "execution_count": null,
   "id": "ac51f9a0",
   "metadata": {},
   "outputs": [],
   "source": [
    "exp"
   ]
  },
  {
   "cell_type": "code",
   "execution_count": null,
   "id": "661a1a30",
   "metadata": {},
   "outputs": [],
   "source": [
    "exp.count_ops(),exp.count_ops(visual=True)"
   ]
  },
  {
   "cell_type": "code",
   "execution_count": null,
   "id": "978afaa4",
   "metadata": {},
   "outputs": [],
   "source": [
    "L(exp)"
   ]
  },
  {
   "cell_type": "code",
   "execution_count": null,
   "id": "e5223913",
   "metadata": {},
   "outputs": [
    {
     "ename": "NameError",
     "evalue": "name '_nodes' is not defined",
     "output_type": "error",
     "traceback": [
      "\u001b[0;31m---------------------------------------------------------------------------\u001b[0m",
      "\u001b[0;31mNameError\u001b[0m                                 Traceback (most recent call last)",
      "\u001b[1;32m/Users/sunqiang/repos/sympy/examples/tmp/sympy练刀场.ipynb Cell 24\u001b[0m in \u001b[0;36m<cell line: 1>\u001b[0;34m()\u001b[0m\n\u001b[0;32m----> <a href='vscode-notebook-cell:/Users/sunqiang/repos/sympy/examples/tmp/sympy%E7%BB%83%E5%88%80%E5%9C%BA.ipynb#X32sZmlsZQ%3D%3D?line=0'>1</a>\u001b[0m _nodes(exp)\n",
      "\u001b[0;31mNameError\u001b[0m: name '_nodes' is not defined"
     ]
    }
   ],
   "source": [
    "_nodes(exp)"
   ]
  },
  {
   "cell_type": "code",
   "execution_count": null,
   "id": "65423699",
   "metadata": {},
   "outputs": [
    {
     "data": {
      "text/latex": [
       "$\\displaystyle - \\operatorname{acot}{\\left(2 \\right)}$"
      ],
      "text/plain": [
       "-acot(2)"
      ]
     },
     "execution_count": 4,
     "metadata": {},
     "output_type": "execute_result"
    }
   ],
   "source": [
    "acot(-2)"
   ]
  },
  {
   "cell_type": "code",
   "execution_count": null,
   "id": "f2bc2e78",
   "metadata": {},
   "outputs": [],
   "source": [
    "exp6.args[1].args"
   ]
  },
  {
   "cell_type": "code",
   "execution_count": null,
   "id": "d2412b43",
   "metadata": {},
   "outputs": [],
   "source": [
    "exp7 = parse_latex()"
   ]
  },
  {
   "cell_type": "code",
   "execution_count": null,
   "id": "0b22e039",
   "metadata": {},
   "outputs": [],
   "source": [
    "if 2%2:\n",
    "    print(\"hh\")"
   ]
  },
  {
   "cell_type": "code",
   "execution_count": null,
   "id": "3d973abd",
   "metadata": {},
   "outputs": [],
   "source": [
    "l = [1,2,3]"
   ]
  },
  {
   "cell_type": "code",
   "execution_count": null,
   "id": "a8b45d81",
   "metadata": {},
   "outputs": [],
   "source": [
    "a = l.pop()\n",
    "print(a)"
   ]
  }
 ],
 "metadata": {
  "kernelspec": {
   "display_name": "sympy",
   "language": "python",
   "name": "python3"
  },
  "language_info": {
   "codemirror_mode": {
    "name": "ipython",
    "version": 3
   },
   "file_extension": ".py",
   "mimetype": "text/x-python",
   "name": "python",
   "nbconvert_exporter": "python",
   "pygments_lexer": "ipython3",
   "version": "3.10.4"
  },
  "vscode": {
   "interpreter": {
    "hash": "457b39c11aaaf4495b9e49cc3d3cb5ecd683de99920e31eb1d61ff62f6686699"
   }
  }
 },
 "nbformat": 4,
 "nbformat_minor": 5
}

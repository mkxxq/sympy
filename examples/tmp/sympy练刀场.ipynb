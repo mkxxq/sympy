{
 "cells": [
  {
   "cell_type": "code",
   "execution_count": 2,
   "id": "d385d397",
   "metadata": {},
   "outputs": [],
   "source": [
    "import sys\n",
    "sys.path.append('/Users/sunqiang/repos/sympy/')"
   ]
  },
  {
   "cell_type": "code",
   "execution_count": 3,
   "id": "f868989f",
   "metadata": {
    "scrolled": true
   },
   "outputs": [
    {
     "name": "stderr",
     "output_type": "stream",
     "text": [
      "/Users/sunqiang/repos/sympy/sympy/external/importtools.py:158: DeprecationWarning: distutils Version classes are deprecated. Use packaging.version instead.\n",
      "  if LooseVersion(modversion) < LooseVersion(min_module_version):\n"
     ]
    }
   ],
   "source": [
    "from sympy import *"
   ]
  },
  {
   "cell_type": "code",
   "execution_count": 73,
   "id": "e3e1af8d",
   "metadata": {},
   "outputs": [],
   "source": [
    "from sympy.plotting import plot\n",
    "from sympy.simplify.trigsimp import _is_Expr,_eapply,_futrig\n",
    "from sympy.simplify.fu import( \n",
    "    TR1, TR2, TR3, TR2i, TR10, L, TR10i,\n",
    "    TR8, TR6, TR15, TR16, TR111, TR5, TRmorrie, TR11, _TR11, TR14, TR22,\n",
    "    TR12,as_f_sign_1,_TR56,TR7,TR9)\n",
    "from sympy.core.compatibility import _nodes\n",
    "from sympy.functions.elementary.trigonometric import TrigonometricFunction\n",
    "from sympy.core.function import count_ops, _mexpand\n",
    "from sympy import Integral, Sum, Symbol,perfect_power,sin,tan,cos,cot,sec,csc,Integer\n",
    "from sympy.abc import x,y,z"
   ]
  },
  {
   "cell_type": "code",
   "execution_count": 5,
   "id": "b5d7cd6d",
   "metadata": {},
   "outputs": [
    {
     "data": {
      "text/plain": [
       "True"
      ]
     },
     "execution_count": 5,
     "metadata": {},
     "output_type": "execute_result"
    }
   ],
   "source": [
    "1 + sin(x) == sin(x) +1"
   ]
  },
  {
   "cell_type": "code",
   "execution_count": null,
   "id": "4566f502",
   "metadata": {},
   "outputs": [],
   "source": [
    "a,b = symbols('a b')"
   ]
  },
  {
   "cell_type": "code",
   "execution_count": null,
   "id": "20960460",
   "metadata": {},
   "outputs": [],
   "source": [
    "TR10(sin(x-y))"
   ]
  },
  {
   "cell_type": "code",
   "execution_count": null,
   "id": "e0f4359a",
   "metadata": {},
   "outputs": [],
   "source": [
    "TR10(sin(x+y))"
   ]
  },
  {
   "cell_type": "code",
   "execution_count": null,
   "id": "bc923871",
   "metadata": {},
   "outputs": [],
   "source": [
    "TR10(cos(x-y))"
   ]
  },
  {
   "cell_type": "code",
   "execution_count": 6,
   "id": "7ff980a8",
   "metadata": {},
   "outputs": [
    {
     "ename": "NameError",
     "evalue": "name 'b' is not defined",
     "output_type": "error",
     "traceback": [
      "\u001b[0;31m---------------------------------------------------------------------------\u001b[0m",
      "\u001b[0;31mNameError\u001b[0m                                 Traceback (most recent call last)",
      "\u001b[1;32m/Users/sunqiang/repos/sympy/examples/tmp/sympy练刀场.ipynb Cell 9\u001b[0m in \u001b[0;36m<cell line: 1>\u001b[0;34m()\u001b[0m\n\u001b[0;32m----> <a href='vscode-notebook-cell:/Users/sunqiang/repos/sympy/examples/tmp/sympy%E7%BB%83%E5%88%80%E5%9C%BA.ipynb#X11sZmlsZQ%3D%3D?line=0'>1</a>\u001b[0m TR10(cos(b\u001b[39m-\u001b[39ma))\n",
      "\u001b[0;31mNameError\u001b[0m: name 'b' is not defined"
     ]
    }
   ],
   "source": [
    "TR10(cos(b-a))"
   ]
  },
  {
   "cell_type": "code",
   "execution_count": null,
   "id": "f8760263",
   "metadata": {},
   "outputs": [],
   "source": [
    "TR12(tan(x+y))"
   ]
  },
  {
   "cell_type": "code",
   "execution_count": null,
   "id": "ae620f1f",
   "metadata": {},
   "outputs": [],
   "source": [
    "TR12(tan(x-y))"
   ]
  },
  {
   "cell_type": "code",
   "execution_count": null,
   "id": "d2247845",
   "metadata": {},
   "outputs": [],
   "source": [
    "sin(-x),cos(-x),tan(-x),cot(-x),sec(-x),csc(-x)"
   ]
  },
  {
   "cell_type": "code",
   "execution_count": null,
   "id": "e3e032b9",
   "metadata": {},
   "outputs": [],
   "source": [
    "asin(-x),acos(-x),atan(-x),acot(-x),asec(-x),acsc(-x)"
   ]
  },
  {
   "cell_type": "code",
   "execution_count": 6,
   "id": "d8170ab7",
   "metadata": {},
   "outputs": [
    {
     "name": "stdout",
     "output_type": "stream",
     "text": [
      "-------- <function TR11.<locals>.f at 0x7f894017a0e0> start----------\n",
      "beforeLatex \\sin{\\left(\\frac{x}{3} \\right)}\n",
      "afterLatex 2 \\sin{\\left(\\frac{x}{6} \\right)} \\cos{\\left(\\frac{x}{6} \\right)}\n",
      "     ⎛x⎞    ⎛x⎞\n",
      "2⋅sin⎜─⎟⋅cos⎜─⎟\n",
      "     ⎝6⎠    ⎝6⎠\n",
      "-------- <function TR11.<locals>.f at 0x7f894017a0e0> start----------\n",
      "beforeLatex \\frac{\\sin{\\left(\\frac{x}{3} \\right)}}{\\cos{\\left(\\frac{x}{6} \\right)}}\n",
      "afterLatex 2 \\sin{\\left(\\frac{x}{6} \\right)}\n",
      "     ⎛x⎞\n",
      "2⋅sin⎜─⎟\n",
      "     ⎝6⎠\n",
      "-------- <function _TR11.<locals>.f at 0x7f89612d3880> start----------\n",
      "beforeLatex \\frac{\\sin{\\left(\\frac{x}{3} \\right)}}{\\cos{\\left(\\frac{x}{6} \\right)}}\n",
      "afterLatex 2 \\sin{\\left(\\frac{x}{6} \\right)}\n",
      "     ⎛x⎞\n",
      "2⋅sin⎜─⎟\n",
      "     ⎝6⎠\n"
     ]
    },
    {
     "data": {
      "text/latex": [
       "$\\displaystyle 2 \\sin{\\left(\\frac{x}{6} \\right)}$"
      ],
      "text/plain": [
       "2*sin(x/6)"
      ]
     },
     "execution_count": 6,
     "metadata": {},
     "output_type": "execute_result"
    }
   ],
   "source": [
    "_TR11(sin(x/3)/(cos(x/6)))"
   ]
  },
  {
   "cell_type": "code",
   "execution_count": null,
   "id": "81a344f8",
   "metadata": {},
   "outputs": [],
   "source": [
    "_TR56(tan(x)**6,tan,sec,lambda x: 1 - x,6,False)"
   ]
  },
  {
   "cell_type": "code",
   "execution_count": 5,
   "id": "bf02e5bd",
   "metadata": {},
   "outputs": [
    {
     "name": "stdout",
     "output_type": "stream",
     "text": [
      "-------- <function TR2i.<locals>.f at 0x7f86d1162c20> start----------\n",
      "beforeLatex \\frac{\\sin{\\left(x \\right)} \\sec{\\left(x \\right)}}{\\cos{\\left(x \\right)} + 1}\n",
      "afterLatex \\tan{\\left(\\frac{x}{2} \\right)} \\sec{\\left(x \\right)}\n",
      "   ⎛x⎞       \n",
      "tan⎜─⎟⋅sec(x)\n",
      "   ⎝2⎠       \n"
     ]
    },
    {
     "data": {
      "text/latex": [
       "$\\displaystyle \\tan{\\left(\\frac{x}{2} \\right)} \\sec{\\left(x \\right)}$"
      ],
      "text/plain": [
       "tan(x/2)*sec(x)"
      ]
     },
     "execution_count": 5,
     "metadata": {},
     "output_type": "execute_result"
    }
   ],
   "source": [
    "TR2i((sin(x)*sec(x))/(cos(x)+1),half=True)"
   ]
  },
  {
   "cell_type": "code",
   "execution_count": 10,
   "id": "a294b2b6",
   "metadata": {},
   "outputs": [],
   "source": [
    "def ok(k, e):\n",
    "    # initial filtering of factors\n",
    "    return (\n",
    "        (e.is_integer or k.is_positive) and (\n",
    "        k.func in (sin, cos) or (half and\n",
    "        k.is_Add and\n",
    "        len(k.args) >= 2 and\n",
    "        any(any(isinstance(ai, cos) or ai.is_Pow and ai.base is cos\n",
    "        for ai in Mul.make_args(a)) for a in k.args))))"
   ]
  },
  {
   "cell_type": "code",
   "execution_count": 20,
   "id": "3c57d60e",
   "metadata": {},
   "outputs": [
    {
     "data": {
      "text/plain": [
       "True"
      ]
     },
     "execution_count": 20,
     "metadata": {},
     "output_type": "execute_result"
    }
   ],
   "source": [
    "Integer(3).is_integer"
   ]
  },
  {
   "cell_type": "code",
   "execution_count": 33,
   "id": "bf7344ec",
   "metadata": {},
   "outputs": [
    {
     "data": {
      "text/plain": [
       "-1"
      ]
     },
     "execution_count": 33,
     "metadata": {},
     "output_type": "execute_result"
    }
   ],
   "source": [
    "-sin(1).is_positive"
   ]
  },
  {
   "cell_type": "code",
   "execution_count": 30,
   "id": "1891acbe",
   "metadata": {},
   "outputs": [
    {
     "data": {
      "text/plain": [
       "False"
      ]
     },
     "execution_count": 30,
     "metadata": {},
     "output_type": "execute_result"
    }
   ],
   "source": [
    "half = False\n",
    "ok(-sin(3),Integer(2))"
   ]
  },
  {
   "cell_type": "code",
   "execution_count": 23,
   "id": "85bfcc80",
   "metadata": {},
   "outputs": [
    {
     "name": "stdout",
     "output_type": "stream",
     "text": [
      "-------- <function TR2i.<locals>.f at 0x7f86b0ae43a0> start----------\n",
      "beforeLatex \\frac{\\cos^{2}{\\left(x \\right)}}{\\sin^{2}{\\left(x \\right)}}\n",
      "afterLatex \\frac{1}{\\tan^{2}{\\left(x \\right)}}\n",
      "   1   \n",
      "───────\n",
      "   2   \n",
      "tan (x)\n"
     ]
    },
    {
     "data": {
      "text/latex": [
       "$\\displaystyle \\frac{1}{\\tan^{2}{\\left(x \\right)}}$"
      ],
      "text/plain": [
       "tan(x)**(-2)"
      ]
     },
     "execution_count": 23,
     "metadata": {},
     "output_type": "execute_result"
    }
   ],
   "source": [
    "TR2i((cos(x)**2)/(sin(x) ** 2) )"
   ]
  },
  {
   "cell_type": "code",
   "execution_count": 26,
   "id": "286eaf57",
   "metadata": {},
   "outputs": [
    {
     "data": {
      "text/plain": [
       "True"
      ]
     },
     "execution_count": 26,
     "metadata": {},
     "output_type": "execute_result"
    }
   ],
   "source": [
    "any((False,False,True))"
   ]
  },
  {
   "cell_type": "code",
   "execution_count": null,
   "id": "f789417f",
   "metadata": {},
   "outputs": [],
   "source": [
    "count_ops(exp6,visual=True)"
   ]
  },
  {
   "cell_type": "code",
   "execution_count": null,
   "id": "861316d0",
   "metadata": {},
   "outputs": [],
   "source": [
    "Lops = lambda x: (L(x), x.count_ops(), _nodes(x), len(x.args), x.is_Add)"
   ]
  },
  {
   "cell_type": "code",
   "execution_count": null,
   "id": "9bb59d6a",
   "metadata": {},
   "outputs": [],
   "source": [
    "exp = parse_latex(r\"\\frac{\\left(x\\cos\\left(x\\right)+3\\cos\\left(x\\right)\\right)\\cos\\left(x\\right)-\\sin\\left(x\\right)\\times \\left(\\cos\\left(x\\right)-x\\sin\\left(x\\right)-3\\sin\\left(x\\right)\\right)}{\\left(x\\cos\\left(x\\right)+3\\cos\\left(x\\right)\\right)^{2}}\")\n",
    "res = trigsimp(exp)"
   ]
  },
  {
   "cell_type": "code",
   "execution_count": null,
   "id": "5dea7df9",
   "metadata": {},
   "outputs": [],
   "source": [
    "res"
   ]
  },
  {
   "cell_type": "code",
   "execution_count": null,
   "id": "b606a575",
   "metadata": {},
   "outputs": [],
   "source": [
    "exp = parse_latex(r\"-a+b\")"
   ]
  },
  {
   "cell_type": "code",
   "execution_count": null,
   "id": "ac51f9a0",
   "metadata": {},
   "outputs": [],
   "source": [
    "exp"
   ]
  },
  {
   "cell_type": "code",
   "execution_count": null,
   "id": "661a1a30",
   "metadata": {},
   "outputs": [],
   "source": [
    "exp.count_ops(),exp.count_ops(visual=True)"
   ]
  },
  {
   "cell_type": "code",
   "execution_count": null,
   "id": "978afaa4",
   "metadata": {},
   "outputs": [],
   "source": [
    "L(exp)"
   ]
  },
  {
   "cell_type": "code",
   "execution_count": null,
   "id": "e5223913",
   "metadata": {},
   "outputs": [
    {
     "ename": "NameError",
     "evalue": "name '_nodes' is not defined",
     "output_type": "error",
     "traceback": [
      "\u001b[0;31m---------------------------------------------------------------------------\u001b[0m",
      "\u001b[0;31mNameError\u001b[0m                                 Traceback (most recent call last)",
      "\u001b[1;32m/Users/sunqiang/repos/sympy/examples/tmp/sympy练刀场.ipynb Cell 24\u001b[0m in \u001b[0;36m<cell line: 1>\u001b[0;34m()\u001b[0m\n\u001b[0;32m----> <a href='vscode-notebook-cell:/Users/sunqiang/repos/sympy/examples/tmp/sympy%E7%BB%83%E5%88%80%E5%9C%BA.ipynb#X32sZmlsZQ%3D%3D?line=0'>1</a>\u001b[0m _nodes(exp)\n",
      "\u001b[0;31mNameError\u001b[0m: name '_nodes' is not defined"
     ]
    }
   ],
   "source": [
    "_nodes(exp)"
   ]
  },
  {
   "cell_type": "code",
   "execution_count": null,
   "id": "65423699",
   "metadata": {},
   "outputs": [
    {
     "data": {
      "text/latex": [
       "$\\displaystyle - \\operatorname{acot}{\\left(2 \\right)}$"
      ],
      "text/plain": [
       "-acot(2)"
      ]
     },
     "execution_count": 4,
     "metadata": {},
     "output_type": "execute_result"
    }
   ],
   "source": [
    "acot(-2)"
   ]
  },
  {
   "cell_type": "code",
   "execution_count": null,
   "id": "f2bc2e78",
   "metadata": {},
   "outputs": [],
   "source": [
    "exp6.args[1].args"
   ]
  },
  {
   "cell_type": "code",
   "execution_count": null,
   "id": "d2412b43",
   "metadata": {},
   "outputs": [],
   "source": [
    "exp7 = parse_latex()"
   ]
  },
  {
   "cell_type": "code",
   "execution_count": null,
   "id": "0b22e039",
   "metadata": {},
   "outputs": [],
   "source": [
    "if 2%2:\n",
    "    print(\"hh\")"
   ]
  },
  {
   "cell_type": "code",
   "execution_count": null,
   "id": "3d973abd",
   "metadata": {},
   "outputs": [],
   "source": [
    "l = [1,2,3]"
   ]
  },
  {
   "cell_type": "code",
   "execution_count": null,
   "id": "a8b45d81",
   "metadata": {},
   "outputs": [],
   "source": [
    "a = l.pop()\n",
    "print(a)"
   ]
  },
  {
   "cell_type": "code",
   "execution_count": 13,
   "id": "7521b197",
   "metadata": {},
   "outputs": [
    {
     "name": "stdout",
     "output_type": "stream",
     "text": [
      "-------- <function TR7.<locals>.f at 0x7f9290be1120> start----------\n",
      "beforeLatex \\cos^{2}{\\left(x \\right)}\n",
      "afterLatex \\frac{\\cos{\\left(2 x \\right)}}{2} + \\frac{1}{2}\n",
      "cos(2⋅x)   1\n",
      "──────── + ─\n",
      "   2       2\n"
     ]
    },
    {
     "data": {
      "text/latex": [
       "$\\displaystyle \\frac{\\cos{\\left(2 x \\right)}}{2} + \\frac{1}{2}$"
      ],
      "text/plain": [
       "cos(2*x)/2 + 1/2"
      ]
     },
     "execution_count": 13,
     "metadata": {},
     "output_type": "execute_result"
    }
   ],
   "source": [
    "TR7(cos(x)**2)"
   ]
  },
  {
   "cell_type": "code",
   "execution_count": null,
   "id": "1b015d86",
   "metadata": {},
   "outputs": [],
   "source": [
    "forumla = (((x+y)**(3/2)+1) * (x+y))*((x+y+z)**10)\n",
    "expand_mul(forumla),_mexpand(forumla)"
   ]
  },
  {
   "cell_type": "code",
   "execution_count": 12,
   "id": "18f61ac5",
   "metadata": {},
   "outputs": [
    {
     "name": "stdout",
     "output_type": "stream",
     "text": [
      "[(1, True, 1, sin(x), 1, sin(x) + 1), (1, True, 1, cos(x), -1, cos(x) - 1), (1, True, 1, cos(x), 1, cos(x) + 1)]\n",
      "-------- <function TR14.<locals>.f at 0x7fc828c80b80> start----------\n",
      "beforeLatex \\left(\\sin{\\left(x \\right)} + 1\\right) \\left(\\cos{\\left(x \\right)} - 1\\right) \\left(\\cos{\\left(x \\right)} + 1\\right) \\sin{\\left(x \\right)}\n",
      "afterLatex - \\left(\\sin{\\left(x \\right)} + 1\\right) \\sin^{3}{\\left(x \\right)}\n",
      "                 3   \n",
      "-(sin(x) + 1)⋅sin (x)\n"
     ]
    },
    {
     "data": {
      "text/latex": [
       "$\\displaystyle - \\left(\\sin{\\left(x \\right)} + 1\\right) \\sin^{3}{\\left(x \\right)}$"
      ],
      "text/plain": [
       "-(sin(x) + 1)*sin(x)**3"
      ]
     },
     "execution_count": 12,
     "metadata": {},
     "output_type": "execute_result"
    }
   ],
   "source": [
    "TR14((cos(x) + 1)*(cos(x)-1)*(sin(x))*(sin(x)+1))"
   ]
  },
  {
   "cell_type": "code",
   "execution_count": 32,
   "id": "71be730f",
   "metadata": {},
   "outputs": [],
   "source": [
    "from sympy.simplify.fu import as_f_sign_1"
   ]
  },
  {
   "cell_type": "code",
   "execution_count": 10,
   "id": "81cd8916",
   "metadata": {},
   "outputs": [
    {
     "name": "stdout",
     "output_type": "stream",
     "text": [
      "-------- <function TR2.<locals>.f at 0x7faa80042cb0> start----------\n",
      "beforeLatex \\tan{\\left(x \\right)}\n",
      "afterLatex \\frac{\\sin{\\left(x \\right)}}{\\cos{\\left(x \\right)}}\n",
      "sin(x)\n",
      "──────\n",
      "cos(x)\n",
      "-------- <function TR2i.<locals>.f at 0x7faa80042cb0> start----------\n",
      "beforeLatex \\frac{\\sin{\\left(x \\right)}}{\\cos{\\left(x \\right)}}\n",
      "afterLatex \\tan{\\left(x \\right)}\n",
      "tan(x)\n",
      "-------- <function TR2.<locals>.f at 0x7faa800428c0> start----------\n",
      "beforeLatex \\tan{\\left(x \\right)}\n",
      "afterLatex \\frac{\\sin{\\left(x \\right)}}{\\cos{\\left(x \\right)}}\n",
      "sin(x)\n",
      "──────\n",
      "cos(x)\n",
      "-------- <function TR2i.<locals>.f at 0x7faa800428c0> start----------\n",
      "beforeLatex \\frac{\\sin{\\left(x \\right)}}{\\cos{\\left(x \\right)}}\n",
      "afterLatex \\tan{\\left(x \\right)}\n",
      "tan(x)\n",
      "-------- <function TR2.<locals>.f at 0x7faa80042950> start----------\n",
      "beforeLatex \\tan{\\left(x \\right)}\n",
      "afterLatex \\frac{\\sin{\\left(x \\right)}}{\\cos{\\left(x \\right)}}\n",
      "sin(x)\n",
      "──────\n",
      "cos(x)\n",
      "-------- <function TR2i.<locals>.f at 0x7faa80042950> start----------\n",
      "beforeLatex \\frac{\\sin{\\left(x \\right)}}{\\cos{\\left(x \\right)}}\n",
      "afterLatex \\tan{\\left(x \\right)}\n",
      "tan(x)\n",
      "-------- <function TR1.<locals>.f at 0x7faa80042950> start----------\n",
      "beforeLatex \\sec{\\left(x \\right)}\n",
      "afterLatex \\frac{1}{\\cos{\\left(x \\right)}}\n",
      "  1   \n",
      "──────\n",
      "cos(x)\n",
      "-------- <function TR111.<locals>.f at 0x7faa80040c10> start----------\n",
      "beforeLatex \\frac{1}{\\cos{\\left(x \\right)}}\n",
      "afterLatex \\sec{\\left(x \\right)}\n",
      "sec(x)\n",
      "-------- <function TR1.<locals>.f at 0x7faa80040c10> start----------\n",
      "beforeLatex \\sec{\\left(x \\right)}\n",
      "afterLatex \\frac{1}{\\cos{\\left(x \\right)}}\n",
      "  1   \n",
      "──────\n",
      "cos(x)\n",
      "-------- <function TR1.<locals>.f at 0x7faa800430a0> start----------\n",
      "beforeLatex \\sec{\\left(x \\right)}\n",
      "afterLatex \\frac{1}{\\cos{\\left(x \\right)}}\n",
      "  1   \n",
      "──────\n",
      "cos(x)\n",
      "-------- <function TR1.<locals>.f at 0x7faa800430a0> start----------\n",
      "beforeLatex \\tan{\\left(x \\right)} + \\sec{\\left(x \\right)}\n",
      "afterLatex \\tan{\\left(x \\right)} + \\frac{1}{\\cos{\\left(x \\right)}}\n",
      "           1   \n",
      "tan(x) + ──────\n",
      "         cos(x)\n",
      "-------- <function TR2.<locals>.f at 0x7faa80040c10> start----------\n",
      "beforeLatex \\tan{\\left(x \\right)}\n",
      "afterLatex \\frac{\\sin{\\left(x \\right)}}{\\cos{\\left(x \\right)}}\n",
      "sin(x)\n",
      "──────\n",
      "cos(x)\n",
      "-------- <function TR2.<locals>.f at 0x7faa80040c10> start----------\n",
      "beforeLatex \\cos{\\left(x \\right)} \\tan{\\left(x \\right)}\n",
      "afterLatex \\sin{\\left(x \\right)}\n",
      "sin(x)\n",
      "-------- <function TR2.<locals>.f at 0x7faa80040c10> start----------\n",
      "beforeLatex \\cos{\\left(x \\right)} \\tan{\\left(x \\right)} + 1\n",
      "afterLatex \\sin{\\left(x \\right)} + 1\n",
      "sin(x) + 1\n",
      "-------- <function TR2.<locals>.f at 0x7faa80040c10> start----------\n",
      "beforeLatex \\frac{\\cos{\\left(x \\right)} \\tan{\\left(x \\right)} + 1}{\\cos{\\left(x \\right)}}\n",
      "afterLatex \\frac{\\sin{\\left(x \\right)} + 1}{\\cos{\\left(x \\right)}}\n",
      "sin(x) + 1\n",
      "──────────\n",
      "  cos(x)  \n",
      "-------- <function TR111.<locals>.f at 0x7faa80043640> start----------\n",
      "beforeLatex \\frac{1}{\\cos{\\left(x \\right)}}\n",
      "afterLatex \\sec{\\left(x \\right)}\n",
      "sec(x)\n",
      "-------- <function TR111.<locals>.f at 0x7faa80043640> start----------\n",
      "beforeLatex \\frac{1}{\\cos{\\left(x \\right)}}\n",
      "afterLatex \\sec{\\left(x \\right)}\n",
      "sec(x)\n",
      "-------- <function TR111.<locals>.f at 0x7faa80043640> start----------\n",
      "beforeLatex \\frac{\\sin{\\left(x \\right)}}{\\cos{\\left(x \\right)}}\n",
      "afterLatex \\sin{\\left(x \\right)} \\sec{\\left(x \\right)}\n",
      "sin(x)⋅sec(x)\n",
      "-------- <function TR111.<locals>.f at 0x7faa80043640> start----------\n",
      "beforeLatex \\frac{\\sin{\\left(x \\right)}}{\\cos{\\left(x \\right)}} + \\frac{1}{\\cos{\\left(x \\right)}}\n",
      "afterLatex \\sin{\\left(x \\right)} \\sec{\\left(x \\right)} + \\sec{\\left(x \\right)}\n",
      "sin(x)⋅sec(x) + sec(x)\n",
      "-------- <function TR1.<locals>.f at 0x7faa80043640> start----------\n",
      "beforeLatex \\sec{\\left(x \\right)}\n",
      "afterLatex \\frac{1}{\\cos{\\left(x \\right)}}\n",
      "  1   \n",
      "──────\n",
      "cos(x)\n",
      "-------- <function TR1.<locals>.f at 0x7faa80043640> start----------\n",
      "beforeLatex \\sin{\\left(x \\right)} \\sec{\\left(x \\right)}\n",
      "afterLatex \\frac{\\sin{\\left(x \\right)}}{\\cos{\\left(x \\right)}}\n",
      "sin(x)\n",
      "──────\n",
      "cos(x)\n",
      "-------- <function TR1.<locals>.f at 0x7faa80043640> start----------\n",
      "beforeLatex \\sec{\\left(x \\right)}\n",
      "afterLatex \\frac{1}{\\cos{\\left(x \\right)}}\n",
      "  1   \n",
      "──────\n",
      "cos(x)\n",
      "-------- <function TR1.<locals>.f at 0x7faa80043640> start----------\n",
      "beforeLatex \\sin{\\left(x \\right)} \\sec{\\left(x \\right)} + \\sec{\\left(x \\right)}\n",
      "afterLatex \\frac{\\sin{\\left(x \\right)}}{\\cos{\\left(x \\right)}} + \\frac{1}{\\cos{\\left(x \\right)}}\n",
      "sin(x)     1   \n",
      "────── + ──────\n",
      "cos(x)   cos(x)\n",
      "-------- <function TR2i.<locals>.f at 0x7faa80043640> start----------\n",
      "beforeLatex \\frac{\\sin{\\left(x \\right)}}{\\cos{\\left(x \\right)}}\n",
      "afterLatex \\tan{\\left(x \\right)}\n",
      "tan(x)\n",
      "-------- <function TR2i.<locals>.f at 0x7faa80043640> start----------\n",
      "beforeLatex \\frac{\\sin{\\left(x \\right)}}{\\cos{\\left(x \\right)}} + \\frac{1}{\\cos{\\left(x \\right)}}\n",
      "afterLatex \\tan{\\left(x \\right)} + \\frac{1}{\\cos{\\left(x \\right)}}\n",
      "           1   \n",
      "tan(x) + ──────\n",
      "         cos(x)\n",
      "-------- <function TR1.<locals>.f at 0x7faa80043640> start----------\n",
      "beforeLatex \\sec{\\left(x \\right)}\n",
      "afterLatex \\frac{1}{\\cos{\\left(x \\right)}}\n",
      "  1   \n",
      "──────\n",
      "cos(x)\n",
      "-------- <function TR1.<locals>.f at 0x7faa80043640> start----------\n",
      "beforeLatex \\tan{\\left(x \\right)} + \\sec{\\left(x \\right)}\n",
      "afterLatex \\tan{\\left(x \\right)} + \\frac{1}{\\cos{\\left(x \\right)}}\n",
      "           1   \n",
      "tan(x) + ──────\n",
      "         cos(x)\n",
      "-------- <function TR1.<locals>.f at 0x7faa80043640> start----------\n",
      "beforeLatex \\left(\\sin{\\left(x \\right)} - 1\\right) \\left(\\tan{\\left(x \\right)} + \\sec{\\left(x \\right)}\\right)\n",
      "afterLatex \\left(\\sin{\\left(x \\right)} - 1\\right) \\left(\\tan{\\left(x \\right)} + \\frac{1}{\\cos{\\left(x \\right)}}\\right)\n",
      "             ⎛           1   ⎞\n",
      "(sin(x) - 1)⋅⎜tan(x) + ──────⎟\n",
      "             ⎝         cos(x)⎠\n",
      "-------- <function TR2.<locals>.f at 0x7faa80042170> start----------\n",
      "beforeLatex \\tan{\\left(x \\right)}\n",
      "afterLatex \\frac{\\sin{\\left(x \\right)}}{\\cos{\\left(x \\right)}}\n",
      "sin(x)\n",
      "──────\n",
      "cos(x)\n",
      "-------- <function TR2.<locals>.f at 0x7faa80042170> start----------\n",
      "beforeLatex \\cos{\\left(x \\right)} \\tan{\\left(x \\right)}\n",
      "afterLatex \\sin{\\left(x \\right)}\n",
      "sin(x)\n",
      "-------- <function TR2.<locals>.f at 0x7faa80042170> start----------\n",
      "beforeLatex \\cos{\\left(x \\right)} \\tan{\\left(x \\right)} + 1\n",
      "afterLatex \\sin{\\left(x \\right)} + 1\n",
      "sin(x) + 1\n",
      "-------- <function TR2.<locals>.f at 0x7faa80042170> start----------\n",
      "beforeLatex \\frac{\\left(\\cos{\\left(x \\right)} \\tan{\\left(x \\right)} + 1\\right) \\left(\\sin{\\left(x \\right)} - 1\\right)}{\\cos{\\left(x \\right)}}\n",
      "afterLatex \\frac{\\left(\\sin{\\left(x \\right)} - 1\\right) \\left(\\sin{\\left(x \\right)} + 1\\right)}{\\cos{\\left(x \\right)}}\n",
      "(sin(x) - 1)⋅(sin(x) + 1)\n",
      "─────────────────────────\n",
      "          cos(x)         \n",
      "-------- <function TR14.<locals>.f at 0x7faad0cae0e0> start----------\n",
      "beforeLatex \\left(\\sin{\\left(x \\right)} - 1\\right) \\left(\\sin{\\left(x \\right)} + 1\\right)\n",
      "afterLatex - \\cos^{2}{\\left(x \\right)}\n",
      "    2   \n",
      "-cos (x)\n",
      "-------- <function TR14.<locals>.f at 0x7faa80042170> start----------\n",
      "beforeLatex \\frac{\\left(\\sin{\\left(x \\right)} - 1\\right) \\left(\\sin{\\left(x \\right)} + 1\\right)}{\\cos{\\left(x \\right)}}\n",
      "afterLatex - \\cos{\\left(x \\right)}\n",
      "-cos(x)\n",
      "-------- <function _futrig at 0x7faab20e8670> start----------\n",
      "beforeLatex \\left(\\sin{\\left(x \\right)} - 1\\right) \\left(\\tan{\\left(x \\right)} + \\sec{\\left(x \\right)}\\right)\n",
      "afterLatex - \\cos{\\left(x \\right)}\n",
      "-cos(x)\n"
     ]
    }
   ],
   "source": [
    "exp = trigsimp(parse_latex(r\"( \\sin x - 1 ) ( \\tan x + \\sec x )\"))"
   ]
  },
  {
   "cell_type": "code",
   "execution_count": 13,
   "id": "e427a331",
   "metadata": {},
   "outputs": [
    {
     "ename": "TypeError",
     "evalue": "Expr.normal() takes 1 positional argument but 2 were given",
     "output_type": "error",
     "traceback": [
      "\u001b[0;31m---------------------------------------------------------------------------\u001b[0m",
      "\u001b[0;31mTypeError\u001b[0m                                 Traceback (most recent call last)",
      "\u001b[1;32m/Users/sunqiang/repos/sympy/examples/tmp/sympy练刀场.ipynb Cell 43\u001b[0m in \u001b[0;36m<cell line: 1>\u001b[0;34m()\u001b[0m\n\u001b[0;32m----> <a href='vscode-notebook-cell:/Users/sunqiang/repos/sympy/examples/tmp/sympy%E7%BB%83%E5%88%80%E5%9C%BA.ipynb#X60sZmlsZQ%3D%3D?line=0'>1</a>\u001b[0m exp\u001b[39m.\u001b[39;49mnormal(cos(x))\n",
      "\u001b[0;31mTypeError\u001b[0m: Expr.normal() takes 1 positional argument but 2 were given"
     ]
    }
   ],
   "source": [
    "exp.normal(cos(x))"
   ]
  },
  {
   "cell_type": "code",
   "execution_count": 5,
   "id": "8030b8b1",
   "metadata": {},
   "outputs": [],
   "source": [
    "from sympy.simplify.fu import trig_split"
   ]
  },
  {
   "cell_type": "code",
   "execution_count": 9,
   "id": "2cc15070",
   "metadata": {},
   "outputs": [
    {
     "data": {
      "text/plain": [
       "(2, 1, 1, x, y, True)"
      ]
     },
     "execution_count": 9,
     "metadata": {},
     "output_type": "execute_result"
    }
   ],
   "source": [
    "trig_split(2*cos(x),2*cos(y))\n"
   ]
  },
  {
   "cell_type": "code",
   "execution_count": 10,
   "id": "599c681f",
   "metadata": {},
   "outputs": [
    {
     "data": {
      "text/plain": [
       "(1, 1, -1, x, y, False)"
      ]
     },
     "execution_count": 10,
     "metadata": {},
     "output_type": "execute_result"
    }
   ],
   "source": [
    "trig_split(sin(x),-sin(y))\n"
   ]
  },
  {
   "cell_type": "code",
   "execution_count": 11,
   "id": "8fd56102",
   "metadata": {},
   "outputs": [],
   "source": [
    "trig_split(sin(x)**2,-sin(y)**2)\n"
   ]
  },
  {
   "cell_type": "code",
   "execution_count": 51,
   "id": "21a1e595",
   "metadata": {},
   "outputs": [
    {
     "data": {
      "text/plain": [
       "(1, 1, -1, x, y, True)"
      ]
     },
     "execution_count": 51,
     "metadata": {},
     "output_type": "execute_result"
    }
   ],
   "source": [
    "trig_split(cos(x),-cos(y))\n"
   ]
  },
  {
   "cell_type": "code",
   "execution_count": null,
   "metadata": {},
   "outputs": [],
   "source": []
  },
  {
   "cell_type": "code",
   "execution_count": 14,
   "id": "543c9615",
   "metadata": {},
   "outputs": [
    {
     "data": {
      "text/plain": [
       "(1, 1, 1, x, y, True)"
      ]
     },
     "execution_count": 14,
     "metadata": {},
     "output_type": "execute_result"
    }
   ],
   "source": [
    "# cos(x-y)\n",
    "trig_split(cos(x)*cos(y),sin(y)*sin(x),true)\n"
   ]
  },
  {
   "cell_type": "code",
   "execution_count": 11,
   "id": "cc29be5b",
   "metadata": {},
   "outputs": [
    {
     "data": {
      "text/plain": [
       "(1, 1, -1, x, y, True)"
      ]
     },
     "execution_count": 11,
     "metadata": {},
     "output_type": "execute_result"
    }
   ],
   "source": [
    "# cos(x+y)\n",
    "trig_split(-1 * sin(x)*sin(y),cos(x)*cos(y),true)"
   ]
  },
  {
   "cell_type": "code",
   "execution_count": 16,
   "id": "0ccd1600",
   "metadata": {},
   "outputs": [
    {
     "data": {
      "text/plain": [
       "(1, -1, 1, x, y, True)"
      ]
     },
     "execution_count": 16,
     "metadata": {},
     "output_type": "execute_result"
    }
   ],
   "source": [
    "# cos(x+y)\n",
    "trig_split(sin(x)*sin(y) ,-cos(x)*cos(y),true)"
   ]
  },
  {
   "cell_type": "code",
   "execution_count": 18,
   "id": "4d1af2c2",
   "metadata": {},
   "outputs": [
    {
     "data": {
      "text/plain": [
       "(1, 1, 1, y, x, False)"
      ]
     },
     "execution_count": 18,
     "metadata": {},
     "output_type": "execute_result"
    }
   ],
   "source": [
    "# sin(x+y)\n",
    "trig_split(sin(x)*cos(y),cos(x)*sin(y),true)"
   ]
  },
  {
   "cell_type": "code",
   "execution_count": 21,
   "id": "fadcb8b1",
   "metadata": {},
   "outputs": [
    {
     "data": {
      "text/plain": [
       "(1, 1, -1, y, x, False)"
      ]
     },
     "execution_count": 21,
     "metadata": {},
     "output_type": "execute_result"
    }
   ],
   "source": [
    "# sin(x-y)\n",
    "trig_split(sin(x)*cos(y), -cos(x)*sin(y),true)"
   ]
  },
  {
   "cell_type": "code",
   "execution_count": 23,
   "id": "290146d9",
   "metadata": {},
   "outputs": [
    {
     "data": {
      "text/latex": [
       "$\\displaystyle \\sin{\\left(2 x \\right)}$"
      ],
      "text/plain": [
       "sin(2*x)"
      ]
     },
     "execution_count": 23,
     "metadata": {},
     "output_type": "execute_result"
    }
   ],
   "source": [
    "TR10(sin(2*x))"
   ]
  },
  {
   "cell_type": "code",
   "execution_count": 24,
   "id": "b2e1f8ce",
   "metadata": {},
   "outputs": [
    {
     "data": {
      "text/plain": [
       "(2*x, 1, -1, x, y, True)"
      ]
     },
     "execution_count": 24,
     "metadata": {},
     "output_type": "execute_result"
    }
   ],
   "source": [
    "trig_split(2*x*cos(x)*cos(y), -2*x*sin(x)*sin(y),true)"
   ]
  },
  {
   "cell_type": "code",
   "execution_count": 25,
   "id": "2da7447e",
   "metadata": {},
   "outputs": [
    {
     "data": {
      "text/plain": [
       "(2*x, 1, 1, x, y, True)"
      ]
     },
     "execution_count": 25,
     "metadata": {},
     "output_type": "execute_result"
    }
   ],
   "source": [
    "trig_split(2*x*cos(x)*cos(y), 2*x*sin(x)*sin(y),true)"
   ]
  },
  {
   "cell_type": "code",
   "execution_count": 26,
   "id": "d89698f2",
   "metadata": {},
   "outputs": [
    {
     "name": "stdout",
     "output_type": "stream",
     "text": [
      "-------- <function TR10.<locals>.f at 0x7fc850fb8a60> start----------\n",
      "beforeLatex \\sin{\\left(x - y \\right)}\n",
      "afterLatex \\sin{\\left(x \\right)} \\cos{\\left(y \\right)} - \\sin{\\left(y \\right)} \\cos{\\left(x \\right)}\n",
      "sin(x)⋅cos(y) - sin(y)⋅cos(x)\n",
      "-------- <function TR10.<locals>.f at 0x7fc850fb8a60> start----------\n",
      "beforeLatex x \\sin{\\left(x - y \\right)}\n",
      "afterLatex x \\left(\\sin{\\left(x \\right)} \\cos{\\left(y \\right)} - \\sin{\\left(y \\right)} \\cos{\\left(x \\right)}\\right)\n",
      "x⋅(sin(x)⋅cos(y) - sin(y)⋅cos(x))\n",
      "-------- <function TR10.<locals>.f at 0x7fc850fb8a60> start----------\n",
      "beforeLatex 2 x \\sin{\\left(x - y \\right)}\n",
      "afterLatex 2 x \\left(\\sin{\\left(x \\right)} \\cos{\\left(y \\right)} - \\sin{\\left(y \\right)} \\cos{\\left(x \\right)}\\right)\n",
      "2⋅x⋅(sin(x)⋅cos(y) - sin(y)⋅cos(x))\n"
     ]
    },
    {
     "data": {
      "text/latex": [
       "$\\displaystyle 2 x \\left(\\sin{\\left(x \\right)} \\cos{\\left(y \\right)} - \\sin{\\left(y \\right)} \\cos{\\left(x \\right)}\\right)$"
      ],
      "text/plain": [
       "2*x*(sin(x)*cos(y) - sin(y)*cos(x))"
      ]
     },
     "execution_count": 26,
     "metadata": {},
     "output_type": "execute_result"
    }
   ],
   "source": [
    "tmpexp = parse_latex(r\"2*x\\sin(x-y)\")\n",
    "# trigsimp(tmpexp)\n",
    "TR10(tmpexp)"
   ]
  },
  {
   "cell_type": "code",
   "execution_count": 27,
   "id": "8b1ae438",
   "metadata": {},
   "outputs": [
    {
     "name": "stdout",
     "output_type": "stream",
     "text": [
      "-------- <function TR10.<locals>.f at 0x7fc870639c60> start----------\n",
      "beforeLatex \\sin{\\left(x + y \\right)}\n",
      "afterLatex \\sin{\\left(x \\right)} \\cos{\\left(y \\right)} + \\sin{\\left(y \\right)} \\cos{\\left(x \\right)}\n",
      "sin(x)⋅cos(y) + sin(y)⋅cos(x)\n",
      "-------- <function TR10.<locals>.f at 0x7fc870639c60> start----------\n",
      "beforeLatex x \\sin{\\left(x + y \\right)}\n",
      "afterLatex x \\left(\\sin{\\left(x \\right)} \\cos{\\left(y \\right)} + \\sin{\\left(y \\right)} \\cos{\\left(x \\right)}\\right)\n",
      "x⋅(sin(x)⋅cos(y) + sin(y)⋅cos(x))\n",
      "-------- <function TR10.<locals>.f at 0x7fc870639c60> start----------\n",
      "beforeLatex 2 x \\sin{\\left(x + y \\right)}\n",
      "afterLatex 2 x \\left(\\sin{\\left(x \\right)} \\cos{\\left(y \\right)} + \\sin{\\left(y \\right)} \\cos{\\left(x \\right)}\\right)\n",
      "2⋅x⋅(sin(x)⋅cos(y) + sin(y)⋅cos(x))\n"
     ]
    },
    {
     "data": {
      "text/latex": [
       "$\\displaystyle 2 x \\left(\\sin{\\left(x \\right)} \\cos{\\left(y \\right)} + \\sin{\\left(y \\right)} \\cos{\\left(x \\right)}\\right)$"
      ],
      "text/plain": [
       "2*x*(sin(x)*cos(y) + sin(y)*cos(x))"
      ]
     },
     "execution_count": 27,
     "metadata": {},
     "output_type": "execute_result"
    }
   ],
   "source": [
    "tmpexp = parse_latex(r\"2*x\\sin(x+y)\")\n",
    "# trigsimp(tmpexp)\n",
    "TR10(tmpexp)"
   ]
  },
  {
   "cell_type": "code",
   "execution_count": 24,
   "id": "4eee1d59",
   "metadata": {},
   "outputs": [],
   "source": [
    "def pow_cos_sin(a, two):\n",
    "    \"\"\"Return ``a`` as a tuple (r, c, s) such that\n",
    "    ``a = (r or 1)*(c or 1)*(s or 1)``.\n",
    "\n",
    "    Three arguments are returned (radical, c-factor, s-factor) as\n",
    "    long as the conditions set by ``two`` are met; otherwise None is\n",
    "    returned. If ``two`` is True there will be one or two non-None\n",
    "    values in the tuple: c and s or c and r or s and r or s or c with c\n",
    "    being a cosine function (if possible) else a sine, and s being a sine\n",
    "    function (if possible) else oosine. If ``two`` is False then there\n",
    "    will only be a c or s term in the tuple.\n",
    "\n",
    "    ``two`` also require that either two cos and/or sin be present (with\n",
    "    the condition that if the functions are the same the arguments are\n",
    "    different or vice versa) or that a single cosine or a single sine\n",
    "    be present with an optional radical.\n",
    "\n",
    "    If the above conditions dictated by ``two`` are not met then None\n",
    "    is returned.\n",
    "    \"\"\"\n",
    "    c = s = None\n",
    "    co = S.One\n",
    "    if a.is_Mul:\n",
    "        co, a = a.as_coeff_Mul()\n",
    "        if len(a.args) > 2 or not two:\n",
    "            return None\n",
    "        if a.is_Mul:\n",
    "            args = list(a.args)\n",
    "        else:\n",
    "            args = [a]\n",
    "        a = args.pop(0)\n",
    "        if isinstance(a, cos):\n",
    "            c = a\n",
    "        elif isinstance(a, sin):\n",
    "            s = a\n",
    "        elif a.is_Pow and a.exp is S.Half:  # autoeval doesn't allow -1/2\n",
    "            co *= a\n",
    "        else:\n",
    "            return None\n",
    "        if args:\n",
    "            b = args[0]\n",
    "            if isinstance(b, cos):\n",
    "                if c:\n",
    "                    s = b\n",
    "                else:\n",
    "                    c = b\n",
    "            elif isinstance(b, sin):\n",
    "                if s:\n",
    "                    c = b\n",
    "                else:\n",
    "                    s = b\n",
    "            elif b.is_Pow and b.exp is S.Half:\n",
    "                co *= b\n",
    "            else:\n",
    "                return None\n",
    "        return co if co is not S.One else None, c, s\n",
    "    elif isinstance(a, cos):\n",
    "        c = a\n",
    "    elif isinstance(a, sin):\n",
    "        s = a\n",
    "    if c is None and s is None:\n",
    "        return\n",
    "    co = co if co is not S.One else None\n",
    "    return co, c, s\n"
   ]
  },
  {
   "cell_type": "code",
   "execution_count": 50,
   "id": "59a2a1da",
   "metadata": {},
   "outputs": [],
   "source": [
    "pow_cos_sin(2*cos(x) ,false)"
   ]
  },
  {
   "cell_type": "code",
   "execution_count": 71,
   "id": "9263d477",
   "metadata": {},
   "outputs": [
    {
     "name": "stdout",
     "output_type": "stream",
     "text": [
      "Factors({x: 1, y: 1}) Factors({-1: 1, x: 1})\n",
      "(Factors({y: 1}), Factors({-1: 1}))\n",
      "Factors({x: 1})\n"
     ]
    }
   ],
   "source": [
    "from sympy.core.exprtools import Factors\n",
    "a = Factors(parse_latex(r\"xy\"))\n",
    "b = Factors(parse_latex(r\"-x\"))\n",
    "print(a,b)\n",
    "print(a.normal(b))\n",
    "print(a.gcd(b))"
   ]
  },
  {
   "cell_type": "code",
   "execution_count": 67,
   "id": "43f27f2e",
   "metadata": {},
   "outputs": [
    {
     "data": {
      "text/plain": [
       "Factors({x**2*y + 2: 1})"
      ]
     },
     "execution_count": 67,
     "metadata": {},
     "output_type": "execute_result"
    }
   ],
   "source": [
    "Factors(parse_latex(r\"x^2y+2\"))"
   ]
  },
  {
   "cell_type": "code",
   "execution_count": 75,
   "id": "ebef9431",
   "metadata": {},
   "outputs": [
    {
     "data": {
      "text/latex": [
       "$\\displaystyle \\cos{\\left(1 \\right)} + 4 \\sin{\\left(\\frac{3}{2} \\right)} \\cos{\\left(\\frac{1}{2} \\right)}$"
      ],
      "text/plain": [
       "cos(1) + 4*sin(3/2)*cos(1/2)"
      ]
     },
     "execution_count": 75,
     "metadata": {},
     "output_type": "execute_result"
    }
   ],
   "source": [
    "TR9(cos(1) + 2*sin(1) + 2*sin(2))"
   ]
  },
  {
   "cell_type": "code",
   "execution_count": 92,
   "id": "9636d82c",
   "metadata": {},
   "outputs": [
    {
     "name": "stdout",
     "output_type": "stream",
     "text": [
      "sin(-e**x - 1) + cos(-e**x - 1) + cot(-e**x - 1) + tan(-e**x - 1)\n",
      "sqrt(2)*cos(e**x + pi/4 + 1) + tan(-e**x - 1) + cot(-e**x - 1)\n"
     ]
    }
   ],
   "source": [
    "exp = parse_latex(r\"\\cos(-e^x -1) + \\sin(-e^x -1)  + \\cot(-e^x -1)  + \\tan(-e^x -1)\")\n",
    "print(exp)\n",
    "sexp = trigsimp(exp)\n",
    "print(sexp)"
   ]
  },
  {
   "cell_type": "code",
   "execution_count": 94,
   "id": "6c5a419a",
   "metadata": {},
   "outputs": [
    {
     "data": {
      "text/latex": [
       "$\\displaystyle \\frac{a^{2} + b}{a b}$"
      ],
      "text/plain": [
       "(a**2 + b)/(a*b)"
      ]
     },
     "execution_count": 94,
     "metadata": {},
     "output_type": "execute_result"
    }
   ],
   "source": [
    "aitem = parse_latex(r\"\\frac{a}{b}\")\n",
    "bitem = parse_latex(r\"\\frac{1}{a}\")\n",
    "sitem =Add(aitem,bitem)\n",
    "factor(sitem)"
   ]
  },
  {
   "cell_type": "code",
   "execution_count": 97,
   "id": "48218b15",
   "metadata": {},
   "outputs": [
    {
     "data": {
      "text/latex": [
       "$\\displaystyle \\frac{a}{b} + \\frac{1}{a}$"
      ],
      "text/plain": [
       "a/b + 1/a"
      ]
     },
     "execution_count": 97,
     "metadata": {},
     "output_type": "execute_result"
    }
   ],
   "source": [
    "aitem = parse_latex(r\"\\frac{a}{b}\")\n",
    "bitem = parse_latex(r\"\\frac{1}{a}\")\n",
    "sitem =Add(aitem,bitem)\n",
    "(sitem)"
   ]
  },
  {
   "cell_type": "code",
   "execution_count": 100,
   "id": "669c7c5b",
   "metadata": {},
   "outputs": [
    {
     "data": {
      "text/latex": [
       "$\\displaystyle \\frac{a}{b} + \\frac{1}{a}$"
      ],
      "text/plain": [
       "a/b + 1/a"
      ]
     },
     "execution_count": 100,
     "metadata": {},
     "output_type": "execute_result"
    }
   ],
   "source": [
    "_mexpand(sitem)"
   ]
  },
  {
   "cell_type": "code",
   "execution_count": 99,
   "id": "f411e744",
   "metadata": {},
   "outputs": [
    {
     "data": {
      "text/plain": [
       "((a**2 + b)/(a*b), a/b + 1/a)"
      ]
     },
     "execution_count": 99,
     "metadata": {},
     "output_type": "execute_result"
    }
   ],
   "source": [
    "sitem.normal(),sitem"
   ]
  },
  {
   "cell_type": "code",
   "execution_count": 95,
   "id": "a4f1791e",
   "metadata": {},
   "outputs": [
    {
     "name": "stdout",
     "output_type": "stream",
     "text": [
      "4*a + b + c\n"
     ]
    }
   ],
   "source": [
    "aitem = parse_latex(r\"2a + b\")\n",
    "bitem = parse_latex(r\"2a + c\")\n",
    "sitem =Add(aitem,bitem)\n",
    "print(sitem)"
   ]
  }
 ],
 "metadata": {
  "kernelspec": {
   "display_name": "sympy",
   "language": "python",
   "name": "python3"
  },
  "language_info": {
   "codemirror_mode": {
    "name": "ipython",
    "version": 3
   },
   "file_extension": ".py",
   "mimetype": "text/x-python",
   "name": "python",
   "nbconvert_exporter": "python",
   "pygments_lexer": "ipython3",
   "version": "3.10.4"
  },
  "vscode": {
   "interpreter": {
    "hash": "457b39c11aaaf4495b9e49cc3d3cb5ecd683de99920e31eb1d61ff62f6686699"
   }
  }
 },
 "nbformat": 4,
 "nbformat_minor": 5
}
